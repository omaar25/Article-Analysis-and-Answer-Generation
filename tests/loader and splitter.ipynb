{
 "cells": [
  {
   "cell_type": "code",
   "execution_count": 1,
   "metadata": {},
   "outputs": [],
   "source": [
    "import os\n",
    "import streamlit as st\n",
    "import pickle\n",
    "import time\n",
    "import langchain\n",
    "from langchain import OpenAI\n",
    "from langchain.chains import RetrievalQAWithSourcesChain\n",
    "from langchain.chains.qa_with_sources.loading import load_qa_with_sources_chain\n",
    "from langchain.text_splitter import RecursiveCharacterTextSplitter\n",
    "from langchain.document_loaders import UnstructuredURLLoader\n",
    "from langchain.embeddings import OpenAIEmbeddings\n",
    "from langchain.vectorstores import FAISS"
   ]
  },
  {
   "cell_type": "code",
   "execution_count": 5,
   "metadata": {},
   "outputs": [
    {
     "data": {
      "text/plain": [
       "2"
      ]
     },
     "execution_count": 5,
     "metadata": {},
     "output_type": "execute_result"
    }
   ],
   "source": [
    "loaders = UnstructuredURLLoader(urls=[\n",
    "    \"https://www.footmercato.net/a6851114504333208735-le-barca-prepare-un-sale-coup-au-psg-dans-un-dossier-bouillant\",\n",
    "    \"https://www.football365.fr/barca-hansi-flick-fait-confiance-a-un-nouveau-crack-il-lache-une-confidence-10213217.html\"\n",
    "    ])\n",
    "data = loaders.load() \n",
    "len(data)"
   ]
  },
  {
   "cell_type": "code",
   "execution_count": 16,
   "metadata": {},
   "outputs": [
    {
     "data": {
      "text/plain": [
       "'Menu Rechercher\\n\\nCommenter 23\\n\\nSerie A\\n\\nLe Barça prépare un sale coup au PSG dans un dossier bouillant\\n\\nPar Josué Cassé - 15/11 - 18:33\\n\\n1 min.\\n\\n@Maxp'"
      ]
     },
     "execution_count": 16,
     "metadata": {},
     "output_type": "execute_result"
    }
   ],
   "source": [
    "data[0].page_content[0:150]"
   ]
  },
  {
   "cell_type": "code",
   "execution_count": 6,
   "metadata": {},
   "outputs": [],
   "source": [
    "text_splitter = RecursiveCharacterTextSplitter(\n",
    "    chunk_size=1000,\n",
    "    chunk_overlap=200\n",
    ")\n",
    "docs = text_splitter.split_documents(data)"
   ]
  },
  {
   "cell_type": "code",
   "execution_count": 7,
   "metadata": {},
   "outputs": [
    {
     "data": {
      "text/plain": [
       "6"
      ]
     },
     "execution_count": 7,
     "metadata": {},
     "output_type": "execute_result"
    }
   ],
   "source": [
    "len(docs)"
   ]
  },
  {
   "cell_type": "code",
   "execution_count": 9,
   "metadata": {},
   "outputs": [
    {
     "data": {
      "text/plain": [
       "Document(metadata={'source': 'https://www.footmercato.net/a6851114504333208735-le-barca-prepare-un-sale-coup-au-psg-dans-un-dossier-bouillant'}, page_content='Menu Rechercher\\n\\nCommenter 23\\n\\nSerie A\\n\\nLe Barça prépare un sale coup au PSG dans un dossier bouillant\\n\\nPar Josué Cassé - 15/11 - 18:33\\n\\n1 min.\\n\\n@Maxppp\\n\\nSi le mercato hivernal n’a toujours pas ouvert ses portes, les premières rumeurs vont bon train dans la presse mondiale. Dans cette optique, l’un des dossiers chauds de la dernière fenêtre estivale refait surface. Ainsi, le cas Kvicha Kvaratskhelia, actuellement sous contrat avec le Napoli, devrait une nouvelle fois enflammer le marché des transferts. Lié à la formation napolitaine jusqu’en juin 2027, l’international géorgien de 23 ans (38 sélections, 17 buts) continue d’attiser les convoitises des plus grands clubs européens. Ces dernières heures, la Gazzetta dello Sport affirmait à ce titre que le Paris Saint-Germain, qui avait offert 100 M€ pour lui il y a quelques mois, était toujours très intéressé à l’idée de recruter le natif de Tiflis en janvier, ou au plus tard l’été prochain. Mais ce n’est pas tout.')"
      ]
     },
     "execution_count": 9,
     "metadata": {},
     "output_type": "execute_result"
    }
   ],
   "source": [
    "docs[0]"
   ]
  },
  {
   "cell_type": "code",
   "execution_count": 40,
   "metadata": {},
   "outputs": [],
   "source": [
    "text=\"La Tunisie, située en Afrique du Nord, est un pays riche en histoire et en culture. Sa capitale est Tunis, une ville dynamique et chargée d'histoire. Avec une population d'environ 12 millions d'habitants, la Tunisie est connue pour son climat méditerranéen au nord et désertique au sud. Elle utilise le dinar tunisien comme monnaie officielle et l'arabe comme langue principale, bien que le français soit largement utilisé. Parmi les sites touristiques les plus célèbres figurent Carthage, Sidi Bou Saïd, et l'Amphithéâtre d'El Jem. Le pays célèbre deux fêtes nationales majeures : le 20 mars, qui marque son indépendance, et le 25 juillet, qui célèbre la proclamation de la République. L'économie tunisienne repose principalement sur le tourisme, l'agriculture, le textile et l'industrie du phosphate.\""
   ]
  },
  {
   "cell_type": "code",
   "execution_count": 47,
   "metadata": {},
   "outputs": [
    {
     "data": {
      "text/plain": [
       "802"
      ]
     },
     "execution_count": 47,
     "metadata": {},
     "output_type": "execute_result"
    }
   ],
   "source": [
    "len(text)"
   ]
  },
  {
   "cell_type": "code",
   "execution_count": 52,
   "metadata": {},
   "outputs": [],
   "source": [
    "from langchain.text_splitter import CharacterTextSplitter\n",
    "\n",
    "splitter = CharacterTextSplitter(\n",
    "    separator = \" \",\n",
    "    chunk_size=100,\n",
    "    chunk_overlap=0\n",
    ")"
   ]
  },
  {
   "cell_type": "code",
   "execution_count": 53,
   "metadata": {},
   "outputs": [
    {
     "data": {
      "text/plain": [
       "9"
      ]
     },
     "execution_count": 53,
     "metadata": {},
     "output_type": "execute_result"
    }
   ],
   "source": [
    "chunks = splitter.split_text(text)\n",
    "len(chunks)"
   ]
  },
  {
   "cell_type": "code",
   "execution_count": 54,
   "metadata": {},
   "outputs": [
    {
     "name": "stdout",
     "output_type": "stream",
     "text": [
      "99\n",
      "91\n",
      "99\n",
      "98\n",
      "98\n",
      "97\n",
      "98\n",
      "89\n",
      "25\n"
     ]
    }
   ],
   "source": [
    "for chunk in chunks:\n",
    "    print(len(chunk))"
   ]
  },
  {
   "cell_type": "code",
   "execution_count": 55,
   "metadata": {},
   "outputs": [
    {
     "data": {
      "text/plain": [
       "'La Tunisie, située en Afrique du Nord, est un pays riche en histoire et en culture. Sa capitale est'"
      ]
     },
     "execution_count": 55,
     "metadata": {},
     "output_type": "execute_result"
    }
   ],
   "source": [
    "chunks[0]"
   ]
  },
  {
   "cell_type": "code",
   "execution_count": null,
   "metadata": {},
   "outputs": [],
   "source": []
  }
 ],
 "metadata": {
  "kernelspec": {
   "display_name": "pyarrow-env",
   "language": "python",
   "name": "python3"
  },
  "language_info": {
   "codemirror_mode": {
    "name": "ipython",
    "version": 3
   },
   "file_extension": ".py",
   "mimetype": "text/x-python",
   "name": "python",
   "nbconvert_exporter": "python",
   "pygments_lexer": "ipython3",
   "version": "3.11.10"
  }
 },
 "nbformat": 4,
 "nbformat_minor": 2
}
